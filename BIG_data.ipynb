{
  "nbformat": 4,
  "nbformat_minor": 0,
  "metadata": {
    "colab": {
      "provenance": [],
      "authorship_tag": "ABX9TyM87YrvjUxPWbno34vdIvy5",
      "include_colab_link": true
    },
    "kernelspec": {
      "name": "python3",
      "display_name": "Python 3"
    },
    "language_info": {
      "name": "python"
    }
  },
  "cells": [
    {
      "cell_type": "markdown",
      "metadata": {
        "id": "view-in-github",
        "colab_type": "text"
      },
      "source": [
        "<a href=\"https://colab.research.google.com/github/aquisxd/Big_Data/blob/main/BIG_data.ipynb\" target=\"_parent\"><img src=\"https://colab.research.google.com/assets/colab-badge.svg\" alt=\"Open In Colab\"/></a>"
      ]
    },
    {
      "cell_type": "markdown",
      "source": [
        "Guía Práctica de NumPy\n"
      ],
      "metadata": {
        "id": "72Cp34V0PP7o"
      }
    },
    {
      "cell_type": "code",
      "source": [
        "# Paso 1: Importar NumPy\n",
        "import numpy as np"
      ],
      "metadata": {
        "id": "alKsEWhiPRcB"
      },
      "execution_count": 1,
      "outputs": []
    },
    {
      "cell_type": "code",
      "source": [
        "# Paso 2: Creación de Arrays\n",
        "# Array unidimensional\n",
        "vector = np.array([1,2,3,8,9,7])\n",
        "# Matriz bidimensional 3x3 con valores enteros consecutivos\n",
        "matriz = np.arange(1, 10).reshape(3, 3)\n",
        "# Matriz 2x4 llena de ceros\n",
        "zeros_matriz = np.zeros((2, 4))\n",
        "# Matriz 3x2 llena de unos\n",
        "ones_matriz = np.ones((3, 2))\n",
        "# Matriz 4x4 con números enteros aleatorios entre 0 y 10\n",
        "random_matriz = np.random.randint(0, 11, (4, 4))\n",
        "\n",
        "print(\"El matriz dimencional es \",vector)\n",
        "print(\"La matriz 3x3 es\",matriz)\n",
        "print(\"La matriz 2x4 es\", zeros_matriz)\n",
        "print(\"La matriz 3x2 es\",ones_matriz)\n",
        "print(\"La matriz 4x4 es\",random_matriz)"
      ],
      "metadata": {
        "colab": {
          "base_uri": "https://localhost:8080/"
        },
        "id": "XWluHSCKPgiA",
        "outputId": "1fa32035-02eb-4d3f-8a00-3af5183a1705"
      },
      "execution_count": 83,
      "outputs": [
        {
          "output_type": "stream",
          "name": "stdout",
          "text": [
            "El matriz dimencional es  [1 2 3 8 9 7]\n",
            "La matriz 3x3 es [[1 2 3]\n",
            " [4 5 6]\n",
            " [7 8 9]]\n",
            "La matriz 2x4 es [[0. 0. 0. 0.]\n",
            " [0. 0. 0. 0.]]\n",
            "La matriz 3x2 es [[1. 1.]\n",
            " [1. 1.]\n",
            " [1. 1.]]\n",
            "La matriz 4x4 es [[ 8 10  2  8]\n",
            " [ 9  4  2  2]\n",
            " [ 1  1  9  9]\n",
            " [ 3  4  2  5]]\n"
          ]
        }
      ]
    },
    {
      "cell_type": "code",
      "source": [
        "# Paso 3: Acceso a Elementos\n",
        "# Acceder al tercer elemento del vector\n",
        "tercer_elemento = vector[2]\n",
        "# Acceder al elemento en la segunda fila y segunda columna de la matriz\n",
        "elemento_2_2 = matriz[1, 1]\n",
        "\n",
        "print(\"El tercer elemento es\",tercer_elemento)\n",
        "print(\"El elemento de la segunda fila es\",elemento_2_2)"
      ],
      "metadata": {
        "colab": {
          "base_uri": "https://localhost:8080/"
        },
        "id": "CqIhuvPgPnIF",
        "outputId": "1ab87968-5566-48f1-ab8d-9dbb08663fbe"
      },
      "execution_count": 57,
      "outputs": [
        {
          "output_type": "stream",
          "name": "stdout",
          "text": [
            "El tercer elemento es 3\n",
            "El elemento de la segunda fila es 5\n"
          ]
        }
      ]
    },
    {
      "cell_type": "code",
      "source": [
        "# Paso 4: Propiedades de los Arrays\n",
        "# Cantidad de dimensiones\n",
        "ndim = matriz.ndim\n",
        "# Forma de la matriz\n",
        "shape = matriz.shape\n",
        "# Tamaño total de la matriz\n",
        "size = matriz.size\n",
        "print(\"La cantidad de dimensiones es\",matriz.ndim)\n",
        "print(\"El tamaño total de la matriz es\",matriz.shape)\n",
        "print(\"Tamaño total de la matriz es\", matriz.size)"
      ],
      "metadata": {
        "colab": {
          "base_uri": "https://localhost:8080/"
        },
        "id": "1uM7tdfHPs5V",
        "outputId": "a468d3d1-cabe-48e2-a8b1-e685331acb84"
      },
      "execution_count": 90,
      "outputs": [
        {
          "output_type": "stream",
          "name": "stdout",
          "text": [
            "La cantidad de dimensiones es 2\n",
            "El tamaño total de la matriz es (3, 3)\n",
            "Tamaño total de la matriz es 9\n"
          ]
        }
      ]
    },
    {
      "cell_type": "code",
      "source": [
        "# Paso 5: Operaciones Básicas\n",
        "# Suma de dos matrices 2x2\n",
        "matriz_a = np.random.randint(0, 11, (2, 2))\n",
        "matriz_b = np.random.randint(0, 11, (2, 2))\n",
        "suma = matriz_a + matriz_b\n",
        "# Multiplicación de matrices 3x2 y 2x3\n",
        "matriz_c = np.random.randint(0, 11, (3, 2))\n",
        "matriz_d = np.random.randint(0, 11, (2, 3))\n",
        "multiplicacion = np.dot(matriz_c, matriz_d)\n",
        "# División por elementos y multiplicación por la inversa\n",
        "matriz_e = np.random.randint(1, 11, (2, 2))\n",
        "matriz_f = np.random.randint(1, 11, (2, 2))\n",
        "division_elementos = matriz_e / matriz_f\n",
        "inversa_f = np.linalg.inv(matriz_f)\n",
        "multiplicacion_inversa = np.dot(matriz_e, inversa_f)\n",
        "\n",
        "print(\"La suma de dos matrices de 2x2 es \",suma)\n",
        "print(\"la multiplicación de matrices 3x2 y 2x3 es \",multiplicacion)\n",
        "print(\"La división por elementos y multiplición a la inversa es \",multiplicacion_inversa)\n"
      ],
      "metadata": {
        "colab": {
          "base_uri": "https://localhost:8080/"
        },
        "id": "neIlE2eVPuhU",
        "outputId": "376039e4-f1c7-418d-ebd5-7b457719b260"
      },
      "execution_count": 67,
      "outputs": [
        {
          "output_type": "stream",
          "name": "stdout",
          "text": [
            "La suma de dos matrices de 2x2 es  [[13 12]\n",
            " [13  5]]\n",
            "la multiplicación de matrices 3x2 y 2x3 es  [[18 24 50]\n",
            " [14 27 70]\n",
            " [ 7  6  7]]\n",
            "La división por elementos y multiplición a la inversa es  [[-0.85245902  0.96721311]\n",
            " [ 0.19672131  0.62295082]]\n"
          ]
        }
      ]
    },
    {
      "cell_type": "code",
      "source": [
        "\n",
        "# Paso 6: Manipulación de Arrays\n",
        "# Convertir vector a matriz 2x3\n",
        "vector_reshape = vector.reshape((2,3))\n",
        "# Convertir matriz a vector unidimensional\n",
        "matriz_flatten = matriz.flatten()\n",
        "\n",
        "print(\"convertir vector\", vector_reshape)\n",
        "\n",
        "print(\"convertir matriz a vector\", matriz_flatten)"
      ],
      "metadata": {
        "colab": {
          "base_uri": "https://localhost:8080/"
        },
        "id": "pP-yg18aP1Ev",
        "outputId": "a0c77670-be0a-49b2-8500-f65a906d2fee"
      },
      "execution_count": 82,
      "outputs": [
        {
          "output_type": "stream",
          "name": "stdout",
          "text": [
            "convertir vector [[1 2 3]\n",
            " [8 9 7]]\n",
            "convertir matriz a vector [1 2 3 4 5 6 7 8 9]\n"
          ]
        }
      ]
    },
    {
      "cell_type": "code",
      "source": [
        "# Paso 7: Operaciones Estadísticas\n",
        "# Suma de todos los elementos de la matriz\n",
        "suma_elementos = np.sum(matriz)\n",
        "# Media de cada fila de la matriz\n",
        "media_filas = np.mean(matriz, axis=1)\n",
        "print(\"La suma de todos los elementos de la matriz es\",suma_elementos)\n",
        "print(\"La media de cada fila es\", media_filas)"
      ],
      "metadata": {
        "colab": {
          "base_uri": "https://localhost:8080/"
        },
        "id": "CvIOnEo8R4iQ",
        "outputId": "597e95af-ded7-40e2-f01c-c50d70775bd9"
      },
      "execution_count": 86,
      "outputs": [
        {
          "output_type": "stream",
          "name": "stdout",
          "text": [
            "La suma de todos los elementos de la matriz es 45\n",
            "La media de cada fila es [2. 5. 8.]\n"
          ]
        }
      ]
    },
    {
      "cell_type": "code",
      "source": [
        "# Paso 8: Indexación y Rebanado\n",
        "# Primera fila de la matriz\n",
        "primera_fila = matriz[0, :]\n",
        "# Primeras dos columnas de la matriz\n",
        "primeras_dos_columnas = matriz[:, :2]\n",
        "\n",
        "print(\"La primera fila de la matriz es:\", primera_fila)\n",
        "print(\"Las primeras dos culumnas de la matriz es:\", primeras_dos_columnas)"
      ],
      "metadata": {
        "colab": {
          "base_uri": "https://localhost:8080/"
        },
        "id": "ZDaNcRKpR8GT",
        "outputId": "e127859c-9420-4e72-d3f3-c164ccd3d6fe"
      },
      "execution_count": 89,
      "outputs": [
        {
          "output_type": "stream",
          "name": "stdout",
          "text": [
            "La primera fila de la matriz es: [1 2 3]\n",
            "Las primeras dos culumnas de la matriz es: [[1 2]\n",
            " [4 5]\n",
            " [7 8]]\n"
          ]
        }
      ]
    },
    {
      "cell_type": "code",
      "source": [
        "# Paso 9: Ejercicio Adicional\n",
        "# Matriz 4x4 con valores aleatorios\n",
        "matriz_4x4 = np.random.rand(4, 4)\n",
        "# Valor máximo, mínimo y sus posiciones\n",
        "valor_maximo = matriz_4x4.max()\n",
        "posicion_maximo = np.unravel_index(np.argmax(matriz_4x4), matriz_4x4.shape)\n",
        "valor_minimo = matriz_4x4.min()\n",
        "posicion_minimo = np.unravel_index(np.argmin(matriz_4x4), matriz_4x4.shape)\n",
        "\n",
        "# Imprimir resultados para verificar\n",
        "print(\"Matriz 4x4 con valores aleatorios:\\n\", matriz_4x4)\n",
        "print(\"Valor máximo:\", valor_maximo, \"en posición\", posicion_maximo)\n",
        "print(\"Valor mínimo:\", valor_minimo, \"en posición\", posicion_minimo)"
      ],
      "metadata": {
        "colab": {
          "base_uri": "https://localhost:8080/"
        },
        "id": "KmXH83h-SP9m",
        "outputId": "b9943479-7b52-42b3-d111-247ddf8da3ad"
      },
      "execution_count": 29,
      "outputs": [
        {
          "output_type": "stream",
          "name": "stdout",
          "text": [
            "Matriz 4x4 con valores aleatorios:\n",
            " [[0.16281427 0.307154   0.68428126 0.49790427]\n",
            " [0.47188605 0.41259152 0.8028986  0.51605141]\n",
            " [0.61178637 0.46707002 0.82072951 0.34822283]\n",
            " [0.46243906 0.66913685 0.06681242 0.23276387]]\n",
            "Valor máximo: 0.8207295077363925 en posición (2, 2)\n",
            "Valor mínimo: 0.06681241680461514 en posición (3, 2)\n"
          ]
        }
      ]
    }
  ]
}